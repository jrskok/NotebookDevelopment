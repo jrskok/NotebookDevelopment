{
 "cells": [
  {
   "cell_type": "code",
   "execution_count": 1,
   "id": "d08b1e3c-d76a-4872-a483-0892a42214b5",
   "metadata": {},
   "outputs": [],
   "source": [
    "import pandas as pd"
   ]
  },
  {
   "cell_type": "code",
   "execution_count": 2,
   "id": "731b7db8-40b7-4a6e-9624-9af65dc13826",
   "metadata": {},
   "outputs": [
    {
     "name": "stderr",
     "output_type": "stream",
     "text": [
      "/Users/JR/opt/anaconda3/lib/python3.8/site-packages/IPython/core/interactiveshell.py:3165: DtypeWarning: Columns (1) have mixed types.Specify dtype option on import or set low_memory=False.\n",
      "  has_raised = await self.run_ast_nodes(code_ast.body, cell_name,\n"
     ]
    }
   ],
   "source": [
    "Ast=pd.read_csv('/Users/JR/Downloads/sbdb_query_results.csv')"
   ]
  },
  {
   "cell_type": "code",
   "execution_count": 3,
   "id": "e5d0c234-e1f9-439f-8c72-353fb61e78bd",
   "metadata": {},
   "outputs": [
    {
     "data": {
      "text/plain": [
       "(1046802, 5)"
      ]
     },
     "execution_count": 3,
     "metadata": {},
     "output_type": "execute_result"
    }
   ],
   "source": [
    "Ast.shape"
   ]
  },
  {
   "cell_type": "code",
   "execution_count": 9,
   "id": "8c21e966-32cc-4f5a-b151-7aa8035542fd",
   "metadata": {},
   "outputs": [
    {
     "data": {
      "text/html": [
       "<div>\n",
       "<style scoped>\n",
       "    .dataframe tbody tr th:only-of-type {\n",
       "        vertical-align: middle;\n",
       "    }\n",
       "\n",
       "    .dataframe tbody tr th {\n",
       "        vertical-align: top;\n",
       "    }\n",
       "\n",
       "    .dataframe thead th {\n",
       "        text-align: right;\n",
       "    }\n",
       "</style>\n",
       "<table border=\"1\" class=\"dataframe\">\n",
       "  <thead>\n",
       "    <tr style=\"text-align: right;\">\n",
       "      <th></th>\n",
       "      <th>full_name</th>\n",
       "      <th>name</th>\n",
       "      <th>diameter</th>\n",
       "      <th>GM</th>\n",
       "      <th>a</th>\n",
       "    </tr>\n",
       "  </thead>\n",
       "  <tbody>\n",
       "    <tr>\n",
       "      <th>0</th>\n",
       "      <td>1 Ceres (A801 AA)</td>\n",
       "      <td>Ceres</td>\n",
       "      <td>939.400</td>\n",
       "      <td>62.628400</td>\n",
       "      <td>2.766</td>\n",
       "    </tr>\n",
       "    <tr>\n",
       "      <th>1</th>\n",
       "      <td>2 Pallas (A802 FA)</td>\n",
       "      <td>Pallas</td>\n",
       "      <td>545.000</td>\n",
       "      <td>14.300000</td>\n",
       "      <td>2.771</td>\n",
       "    </tr>\n",
       "    <tr>\n",
       "      <th>2</th>\n",
       "      <td>3 Juno (A804 RA)</td>\n",
       "      <td>Juno</td>\n",
       "      <td>246.596</td>\n",
       "      <td>NaN</td>\n",
       "      <td>2.669</td>\n",
       "    </tr>\n",
       "    <tr>\n",
       "      <th>3</th>\n",
       "      <td>4 Vesta (A807 FA)</td>\n",
       "      <td>Vesta</td>\n",
       "      <td>525.400</td>\n",
       "      <td>17.288245</td>\n",
       "      <td>2.361</td>\n",
       "    </tr>\n",
       "    <tr>\n",
       "      <th>4</th>\n",
       "      <td>5 Astraea (A845 XA)</td>\n",
       "      <td>Astraea</td>\n",
       "      <td>106.699</td>\n",
       "      <td>NaN</td>\n",
       "      <td>2.575</td>\n",
       "    </tr>\n",
       "  </tbody>\n",
       "</table>\n",
       "</div>"
      ],
      "text/plain": [
       "                  full_name     name  diameter         GM      a\n",
       "0         1 Ceres (A801 AA)    Ceres   939.400  62.628400  2.766\n",
       "1        2 Pallas (A802 FA)   Pallas   545.000  14.300000  2.771\n",
       "2          3 Juno (A804 RA)     Juno   246.596        NaN  2.669\n",
       "3         4 Vesta (A807 FA)    Vesta   525.400  17.288245  2.361\n",
       "4       5 Astraea (A845 XA)  Astraea   106.699        NaN  2.575"
      ]
     },
     "execution_count": 9,
     "metadata": {},
     "output_type": "execute_result"
    }
   ],
   "source": [
    "Ast.head(5)"
   ]
  },
  {
   "cell_type": "code",
   "execution_count": 12,
   "id": "bdf02bdc-732b-4d9e-82df-49213d97e7d4",
   "metadata": {},
   "outputs": [
    {
     "name": "stdout",
     "output_type": "stream",
     "text": [
      "9\n"
     ]
    }
   ],
   "source": [
    "print(len(Ast.loc[~Ast['GM'].isnull()]))"
   ]
  },
  {
   "cell_type": "code",
   "execution_count": null,
   "id": "ae0e8955-439b-4b76-8e17-1d6f70a2f84a",
   "metadata": {},
   "outputs": [],
   "source": []
  },
  {
   "cell_type": "code",
   "execution_count": 6,
   "id": "91a5b354-79ec-4d54-8e3d-60abee3b18f3",
   "metadata": {},
   "outputs": [
    {
     "data": {
      "text/plain": [
       "<AxesSubplot:xlabel='a', ylabel='GM'>"
      ]
     },
     "execution_count": 6,
     "metadata": {},
     "output_type": "execute_result"
    },
    {
     "data": {
      "image/png": "[encoded data removed]",
      "text/plain": [
       "<Figure size 432x288 with 1 Axes>"
      ]
     },
     "metadata": {
      "needs_background": "light"
     },
     "output_type": "display_data"
    }
   ],
   "source": [
    "Ast.plot(x ='a', y='GM', kind = 'scatter')\n"
   ]
  },
  {
   "cell_type": "code",
   "execution_count": null,
   "id": "ec54cf0c-4fa4-4996-a760-f62e79e6cf04",
   "metadata": {},
   "outputs": [],
   "source": []
  }
 ],
 "metadata": {
  "kernelspec": {
   "display_name": "Python 3",
   "language": "python",
   "name": "python3"
  },
  "language_info": {
   "codemirror_mode": {
    "name": "ipython",
    "version": 3
   },
   "file_extension": ".py",
   "mimetype": "text/x-python",
   "name": "python",
   "nbconvert_exporter": "python",
   "pygments_lexer": "ipython3",
   "version": "3.8.8"
  }
 },
 "nbformat": 4,
 "nbformat_minor": 5
}
